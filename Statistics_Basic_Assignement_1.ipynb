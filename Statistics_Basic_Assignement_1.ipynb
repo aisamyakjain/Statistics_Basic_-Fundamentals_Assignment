{
 "cells": [
  {
   "cell_type": "code",
   "execution_count": 1,
   "id": "75e5572b-94ba-4450-bcd6-7b031de439a2",
   "metadata": {},
   "outputs": [],
   "source": [
    "#  Q1. What is Statistics?\n",
    "\n",
    "# Statistics is a field of study that involves the collection, analysis,\n",
    "# interpretation, presentation, and organization of data. "
   ]
  },
  {
   "cell_type": "code",
   "execution_count": 2,
   "id": "ff9b80ca-bd25-4ccf-ade9-ffd87744dbb6",
   "metadata": {},
   "outputs": [],
   "source": [
    "# Q2. Define the different types of statistics and give an example of when each type might be used?\n",
    "\n",
    "# Descriptive : Its consists of organizing and summarizing data.\n",
    "# Example : Measure  of tendency, measure of dispersion \n",
    "\n",
    "# Inferential : Its consists of using data you have measured to form conclusion.\n",
    "# Example: Hypothesis Testing, P value"
   ]
  },
  {
   "cell_type": "code",
   "execution_count": 3,
   "id": "ae390c89-2033-4ac5-99cf-50f566152851",
   "metadata": {},
   "outputs": [],
   "source": [
    "# Q3.  What are the different types of data and how do they differ from each other? Provide an example of \n",
    "# each type of data.\n",
    "\n",
    "# Two type of Data . 1. Quantitavive  2. Qualitative\n",
    "\n",
    "# Quantitative Data\n",
    "# Types :\n",
    "# Discrete Data : It contains only whole number, ex Bank Account, No of children e.t.c.\n",
    "\n",
    "#  Continouous Data: Any value means It should also be a float value . Ex : Weight, Temperature, Speed, Distance,\n",
    "#  Height e.t.c\n",
    "\n",
    "# Qualitative Data\n",
    "# Types:\n",
    "\n",
    "# Nominal : Ex . Gender, Blood Group, Pincode \n",
    "# Ordinal : Ex. Customer Feedback e.t.c.\n",
    "    \n"
   ]
  },
  {
   "cell_type": "code",
   "execution_count": 4,
   "id": "3b434d5f-1983-4bab-b3ad-c679b89bf47d",
   "metadata": {},
   "outputs": [],
   "source": [
    "#  4. Categorise the following datasets with respect to quantitative and qualitative data types:\n",
    "\n",
    "#  (i)\tGrading in exam: A+, A, B+, B, C+, C, D, E  (Qualitative)\n",
    "\n",
    "#  (ii)\tColour of mangoes: yellow, green, orange, red  (Qualitative)\n",
    "\n",
    "#  (iii)\tHeight data of a class: [178.9, 179, 179.5, 176, 177.2, 178.3, 175.8,...]  (Quantitative)\n",
    "\n",
    "#  (iv)\tNumber of mangoes exported by a farm: [500, 600, 478, 672, …]    (Quantitative)"
   ]
  },
  {
   "cell_type": "code",
   "execution_count": 5,
   "id": "0315d39d-1656-47f9-a9cc-0f2be42d7b00",
   "metadata": {},
   "outputs": [],
   "source": [
    "# #  Q5. Explain the concept of levels of measurement and give an example of a variable of each level.\n",
    "  \n",
    "    \n",
    "#     Nominal Level:\n",
    "# At the nominal level, data is categorized into distinct categories or groups without any inherent order or numerical value. \n",
    "# The categories are typically represented by labels or names. \n",
    "# Examples of nominal variables include gender (male/female), marital status (single/married/divorced), or types of animals (dog/cat/horse).\n",
    "# In this level, data can only be classified into different categories, and no mathematical operations can be performed on the data.\n",
    "\n",
    "# Ordinal Level:\n",
    "# In the ordinal level, data can be ordered or ranked, but the differences between the values are not quantifiable or consistent. \n",
    "# The categories have a relative order, but the magnitude of differences is not specified. \n",
    "# Examples of ordinal variables include rating scales (e.g., Likert scales) where respondents rate their agreement on a scale from\n",
    "# \"strongly disagree\" to \"strongly agree\" or educational attainment levels\n",
    "# (e.g., elementary school, high school, college, graduate school). While we can determine the order, we cannot say how much better one category\n",
    "# is compared to another.\n",
    "\n",
    "# Interval Level:\n",
    "# At the interval level, data can be ordered, and the differences between the values are meaningful and consistent. \n",
    "# In addition to the ordering, the interval level assigns a numerical value to each category, and the intervals between values have a consistent meaning.\n",
    "# However, the concept of a true zero point is not present. Examples of interval variables include temperature measured in Celsius or Fahrenheit. \n",
    "# The difference between 20 and 30 degrees is the same as the difference between 30 and 40 degrees, but there is no \"true zero\" temperature.\n",
    "\n",
    "# Ratio Level:\n",
    "# The ratio level is the highest level of measurement. It includes all the characteristics of the interval level but also has a true zero point, \n",
    "# which represents an absence or complete lack of the measured attribute. With ratio-level data, ratios and proportions between values are meaningful and \n",
    "# interpretable. Examples of ratio variables include height, weight, age, time, and counts. For instance, \n",
    "# if someone's weight is twice as much as another person's weight, it represents a meaningful ratio."
   ]
  },
  {
   "cell_type": "code",
   "execution_count": 6,
   "id": "e9582620-203a-4171-b940-8df957392bb4",
   "metadata": {},
   "outputs": [],
   "source": [
    "# #  Q6. Why is it important to understand the level of measurement when analyzing data? Provide an \n",
    "# #  example to illustrate your answer\n",
    "\n",
    "# Let's consider a study examining the performance of students in different grade levels. The researchers collect data on the following variables: \"Grade Level\" (nominal), \"Math Test Score\" (interval), and \"Rank in Class\" (ordinal).\n",
    "\n",
    "# Grade Level (Nominal):\n",
    "# Since grade level is a nominal variable, it represents distinct categories without any inherent order. It would be inappropriate to calculate means or perform mathematical operations on the grades. However, the data can be summarized using frequencies or proportions. For example, the researchers can calculate the percentage of students in each grade level or create a bar chart to visualize the distribution.\n",
    "\n",
    "# Math Test Score (Interval):\n",
    "# Math test scores represent interval-level data because they can be ordered, and the differences between the scores are meaningful and consistent. Researchers can calculate descriptive statistics such as the mean, standard deviation, and percentiles to summarize the data. They can also perform statistical tests such as t-tests or analysis of variance (ANOVA) to compare the mean scores between different groups, such as grade levels or genders.\n",
    "\n",
    "# Rank in Class (Ordinal):\n",
    "# Rank in class is an ordinal variable as it has an inherent order or ranking, but the magnitude of differences between ranks may not be equal. Researchers can analyze this variable using measures such as median, mode, or percentiles. For example, they can calculate the median rank or determine the most common rank. They can also use non-parametric tests like the Mann-Whitney U test or Kruskal-Wallis test to compare the ranks between different groups.\n",
    "\n",
    "# By understanding the level of measurement, researchers can apply appropriate statistical techniques that match the nature of the data. This ensures accurate analysis and meaningful interpretation of the results. If the level of measurement is not considered, incorrect statistical analyses might be applied, leading to erroneous conclusions or misinterpretation of the data. Therefore, it is essential to understand the level of measurement to choose the right statistical methods and make valid inferences from the data."
   ]
  },
  {
   "cell_type": "code",
   "execution_count": 7,
   "id": "7ca56b26-4f85-42d3-b741-5d66f2f18026",
   "metadata": {},
   "outputs": [],
   "source": [
    "# 7. How nominal data type is different from ordinal data type\n",
    "\n",
    "#  Nominal data represents distinct categories without any inherent order, while ordinal data has an ordered or ranked structure."
   ]
  },
  {
   "cell_type": "code",
   "execution_count": 8,
   "id": "93f14471-1335-4d76-9b46-bc102d3dee0e",
   "metadata": {},
   "outputs": [],
   "source": [
    "#  Q8. Which type of plot can be used to display data in terms of range?\n",
    "\n",
    "#  Boxplot"
   ]
  },
  {
   "cell_type": "code",
   "execution_count": 9,
   "id": "84289f19-ae44-4eee-98be-2d9cf649e0da",
   "metadata": {},
   "outputs": [],
   "source": [
    "#  Q9. Describe the difference between descriptive and inferential statistics. Give an example of each \n",
    "#  type of statistics and explain how they are used.\n",
    "\n",
    "#  Answer: Refer to question 2."
   ]
  },
  {
   "cell_type": "code",
   "execution_count": 10,
   "id": "1df34978-e7f9-48a7-9bf5-88189d2ab52c",
   "metadata": {},
   "outputs": [],
   "source": [
    "# #   Q10. What are some common measures of central tendency and variability used in statistics? Explain \n",
    "# #   how each measure can be used to describe a dataset.\n",
    "\n",
    "# Common measures of central tendency include mean, median, and mode, which describe the typical value in a dataset. \n",
    "# Measures of variability, such as range, variance, and standard deviation, quantify the spread of data. \n",
    "# They provide insights into the distribution, variability, and characteristic values of the dataset."
   ]
  },
  {
   "cell_type": "code",
   "execution_count": null,
   "id": "5a0408d9-00b0-4156-904b-e0ea1114b5c5",
   "metadata": {},
   "outputs": [],
   "source": []
  }
 ],
 "metadata": {
  "kernelspec": {
   "display_name": "Python 3 (ipykernel)",
   "language": "python",
   "name": "python3"
  },
  "language_info": {
   "codemirror_mode": {
    "name": "ipython",
    "version": 3
   },
   "file_extension": ".py",
   "mimetype": "text/x-python",
   "name": "python",
   "nbconvert_exporter": "python",
   "pygments_lexer": "ipython3",
   "version": "3.10.8"
  }
 },
 "nbformat": 4,
 "nbformat_minor": 5
}
